{
 "metadata": {
  "name": "dominion-interval-analysis"
 },
 "nbformat": 3,
 "nbformat_minor": 0,
 "worksheets": [
  {
   "cells": [
    {
     "cell_type": "code",
     "collapsed": false,
     "input": [
      "import pandas as pd\n",
      "import time as t\n",
      "import datetime as dt\n",
      "import matplotlib.pyplot as plt"
     ],
     "language": "python",
     "metadata": {},
     "outputs": [],
     "prompt_number": 708
    },
    {
     "cell_type": "code",
     "collapsed": false,
     "input": [
      "names = ['Account Number', 'Recorder ID', 'Date', '12:30 AM','1:00 AM','1:30 AM','2:00 AM','2:30 AM','3:00 AM','3:30 AM','4:00 AM','4:30 AM','5:00 AM','5:30 AM','6:00 AM','6:30 AM','7:00 AM','7:30 AM','8:00 AM','8:30 AM','9:00 AM','9:30 AM','10:00 AM','10:30 AM','11:00 AM','11:30 AM','12:00 PM','12:30 PM','1:00 PM','1:30 PM','2:00 PM','2:30 PM','3:00 PM','3:30 PM','4:00 PM','4:30 PM','5:00 PM','5:30 PM','6:00 PM','6:30 PM','7:00 PM','7:30 PM','8:00 PM','8:30 PM','9:00 PM','9:30 PM','10:00 PM','10:30 PM','11:00 PM','11:30 PM','12:00 AM']\n",
      "\n",
      "df = pd.read_csv('Witter_0956030449_0258217584_KWH_20140303.csv', sep=',', header=None, names=names)\n"
     ],
     "language": "python",
     "metadata": {},
     "outputs": [],
     "prompt_number": 709
    },
    {
     "cell_type": "code",
     "collapsed": false,
     "input": [
      "melted_df = pd.melt(df, id_vars=['Date'], value_vars=names[3:])"
     ],
     "language": "python",
     "metadata": {},
     "outputs": [],
     "prompt_number": 710
    },
    {
     "cell_type": "code",
     "collapsed": false,
     "input": [
      "melted_df.columns=['Date', 'Time', 'kWh']"
     ],
     "language": "python",
     "metadata": {},
     "outputs": [],
     "prompt_number": 711
    },
    {
     "cell_type": "code",
     "collapsed": false,
     "input": [
      "melted_df['Date'] = melted_df['Date'].apply(str)"
     ],
     "language": "python",
     "metadata": {},
     "outputs": [],
     "prompt_number": 712
    },
    {
     "cell_type": "code",
     "collapsed": false,
     "input": [
      "melted_df['Time'] = melted_df['Time'].apply(str)"
     ],
     "language": "python",
     "metadata": {},
     "outputs": [],
     "prompt_number": 713
    },
    {
     "cell_type": "code",
     "collapsed": false,
     "input": [
      "melted_df['Datetime'] = melted_df['Date'] + ' ' + melted_df['Time']"
     ],
     "language": "python",
     "metadata": {},
     "outputs": [],
     "prompt_number": 714
    },
    {
     "cell_type": "code",
     "collapsed": false,
     "input": [
      "melted_df['Datetime'] = melted_df['Datetime'].apply(lambda x: dt.datetime.strptime(x, '%m/%d/%Y %I:%M %p'))"
     ],
     "language": "python",
     "metadata": {},
     "outputs": [],
     "prompt_number": 715
    },
    {
     "cell_type": "code",
     "collapsed": false,
     "input": [
      "def det_fiscal_year(x):\n",
      "    if x.month >= 7:\n",
      "        return x.year + 1\n",
      "    else:\n",
      "        return x.year"
     ],
     "language": "python",
     "metadata": {},
     "outputs": [],
     "prompt_number": 716
    },
    {
     "cell_type": "code",
     "collapsed": false,
     "input": [
      "# Add relevant grouping columns\n",
      "\n",
      "melted_df['kWh'] = melted_df['kWh'].replace({'-': 0.0})\n",
      "melted_df['kWh'] = melted_df['kWh'].apply(lambda x: float(x))\n",
      "melted_df['HourOfDay'] = melted_df['Datetime'].apply(lambda x: x.hour)\n",
      "melted_df['Month'] = melted_df['Datetime'].apply(lambda x: x.month)\n",
      "melted_df['Day'] = melted_df['Datetime'].apply(lambda x: x.day)\n",
      "melted_df['Year'] = melted_df['Datetime'].apply(lambda x: x.year)\n",
      "melted_df['FiscalYear'] = melted_df['Datetime'].apply(lambda x: det_fiscal_year(x))\n",
      "melted_df['DayOfWeek'] = melted_df['Datetime'].apply(lambda x: x.isoweekday())"
     ],
     "language": "python",
     "metadata": {},
     "outputs": [],
     "prompt_number": 717
    },
    {
     "cell_type": "code",
     "collapsed": false,
     "input": [
      "melted_df = melted_df.sort(['Datetime'])"
     ],
     "language": "python",
     "metadata": {},
     "outputs": [],
     "prompt_number": 718
    },
    {
     "cell_type": "code",
     "collapsed": false,
     "input": [
      "melted_df.index = range(1, len(melted_df)+1)"
     ],
     "language": "python",
     "metadata": {},
     "outputs": [],
     "prompt_number": 719
    },
    {
     "cell_type": "code",
     "collapsed": false,
     "input": [
      "melted_df.to_csv(open('test.csv', 'w'), sep=',')"
     ],
     "language": "python",
     "metadata": {},
     "outputs": [],
     "prompt_number": 720
    },
    {
     "cell_type": "code",
     "collapsed": false,
     "input": [
      "melted_df_groupby_DateAndHour = melted_df.groupby(['Date', 'HourOfDay'])"
     ],
     "language": "python",
     "metadata": {},
     "outputs": [],
     "prompt_number": 721
    },
    {
     "cell_type": "code",
     "collapsed": false,
     "input": [
      "melted_df_groupby_DateAndHour.head(20)\n",
      "melted_df_groupby_DateAndHour_Sum = pd.DataFrame(melted_df_groupby_DateAndHour['kWh'].sum())\n",
      "print melted_df_groupby_DateAndHour_Sum.index.name\n",
      "\n"
     ],
     "language": "python",
     "metadata": {},
     "outputs": [
      {
       "output_type": "stream",
       "stream": "stdout",
       "text": [
        "None\n"
       ]
      }
     ],
     "prompt_number": 750
    },
    {
     "cell_type": "code",
     "collapsed": false,
     "input": [
      "melted_df_groupby_DateAndHour_Sum.to_csv(open('Date_and_hour.csv', 'w'), sep=',')"
     ],
     "language": "python",
     "metadata": {},
     "outputs": [],
     "prompt_number": 723
    },
    {
     "cell_type": "code",
     "collapsed": false,
     "input": [
      "melted_df_groupbydate = melted_df.groupby('Date')\n",
      "date_sum = pd.DataFrame(melted_df_groupbydate['kWh'].sum())\n",
      "date_max = pd.DataFrame(melted_df_groupbydate['kWh'].max())"
     ],
     "language": "python",
     "metadata": {},
     "outputs": [],
     "prompt_number": 724
    },
    {
     "cell_type": "code",
     "collapsed": false,
     "input": [
      "daily_load_factor = date_sum / (48 * date_max)"
     ],
     "language": "python",
     "metadata": {},
     "outputs": [],
     "prompt_number": 725
    },
    {
     "cell_type": "code",
     "collapsed": false,
     "input": [
      "daily_load_factor.columns = ['Daily Load Factor']"
     ],
     "language": "python",
     "metadata": {},
     "outputs": [],
     "prompt_number": 726
    },
    {
     "cell_type": "code",
     "collapsed": false,
     "input": [
      "daily_load_factor = daily_load_factor['Daily Load Factor'].dropna()"
     ],
     "language": "python",
     "metadata": {},
     "outputs": [],
     "prompt_number": 727
    },
    {
     "cell_type": "code",
     "collapsed": false,
     "input": [
      "daily_load_factor"
     ],
     "language": "python",
     "metadata": {},
     "outputs": [
      {
       "output_type": "pyout",
       "prompt_number": 728,
       "text": [
        "Date\n",
        "01/01/2014    0.620939\n",
        "01/02/2014    0.280763\n",
        "01/03/2014    0.690519\n",
        "01/04/2014    0.731608\n",
        "01/05/2014    0.207913\n",
        "01/06/2014    0.210417\n",
        "01/07/2014    0.666817\n",
        "01/08/2014    0.305014\n",
        "01/09/2014    0.225645\n",
        "01/10/2014    0.690176\n",
        "01/11/2014    0.565736\n",
        "01/12/2014    0.182207\n",
        "01/13/2014    0.233294\n",
        "01/14/2014    0.192366\n",
        "01/15/2014    0.250556\n",
        "...\n",
        "12/17/2013    0.247782\n",
        "12/18/2013    0.233685\n",
        "12/19/2013    0.228213\n",
        "12/20/2013    0.196352\n",
        "12/21/2013    0.510156\n",
        "12/22/2013    0.141182\n",
        "12/23/2013    0.420513\n",
        "12/24/2013    0.350694\n",
        "12/25/2013    0.406678\n",
        "12/26/2013    0.202310\n",
        "12/27/2013    0.506226\n",
        "12/28/2013    0.491567\n",
        "12/29/2013    0.529070\n",
        "12/30/2013    0.580532\n",
        "12/31/2013    0.643443\n",
        "Name: Daily Load Factor, Length: 327, dtype: float64"
       ]
      }
     ],
     "prompt_number": 728
    },
    {
     "cell_type": "code",
     "collapsed": false,
     "input": [],
     "language": "python",
     "metadata": {},
     "outputs": [],
     "prompt_number": 728
    }
   ],
   "metadata": {}
  }
 ]
}