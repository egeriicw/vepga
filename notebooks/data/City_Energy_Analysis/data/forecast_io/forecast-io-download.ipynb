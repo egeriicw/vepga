{
 "metadata": {
  "name": "forecast-io-download"
 },
 "nbformat": 3,
 "nbformat_minor": 0,
 "worksheets": [
  {
   "cells": [
    {
     "cell_type": "code",
     "collapsed": false,
     "input": [
      "import mechanize\n",
      "import cookielib\n",
      "import csv\n",
      "import time\n",
      "from random import choice, randint\n",
      "import json\n",
      "import sys\n",
      "import datetime as dt\n",
      "from pytz import timezone"
     ],
     "language": "python",
     "metadata": {},
     "outputs": [],
     "prompt_number": 1
    },
    {
     "cell_type": "code",
     "collapsed": false,
     "input": [
      "start = time.time()\n",
      "\n",
      "br = mechanize.Browser()\n",
      "\n",
      "cj = cookielib.LWPCookieJar()\n",
      "br.set_cookiejar(cj)\n",
      "\n",
      "br.set_handle_equiv(True)\n",
      "br.set_handle_gzip(True)\n",
      "br.set_handle_redirect(True)\n",
      "br.set_handle_referer(True)\n",
      "br.set_handle_robots(False)\n",
      "\n",
      "br.set_handle_refresh(mechanize._http.HTTPRefreshProcessor(), max_time=1)\n",
      "\n",
      "# User Agent\n",
      "br.addheaders = [('User-agent', 'Mozilla/5.0 (X11; U; Linux i686; en-us; rv:1.9.0.1) Gecko/2008071615 Fedora/3.0.1-1.fc9 Firefox/3.0.1')]"
     ],
     "language": "python",
     "metadata": {},
     "outputs": [
      {
       "output_type": "stream",
       "stream": "stderr",
       "text": [
        "-c:9: UserWarning: gzip transfer encoding is experimental!\n"
       ]
      }
     ],
     "prompt_number": 2
    },
    {
     "cell_type": "code",
     "collapsed": false,
     "input": [
      "url = 'https://api.forecast.io/forecast/f628c774ca6191d0f8e6792738fa0849/38.8048,-77.0469,%s?extend=hourly'"
     ],
     "language": "python",
     "metadata": {},
     "outputs": [],
     "prompt_number": 3
    },
    {
     "cell_type": "code",
     "collapsed": false,
     "input": [
      "base_datetime = dt.datetime(2014, 10, 26, 0, 0, 0, 0, tzinfo=timezone('US/Eastern'))\n",
      "num_records = 267"
     ],
     "language": "python",
     "metadata": {},
     "outputs": [],
     "prompt_number": 4
    },
    {
     "cell_type": "code",
     "collapsed": false,
     "input": [
      "for i in range(0, num_records):\n",
      "    dn_datetime = base_datetime + dt.timedelta(days=i)\n",
      "    dn_formatted_datetime = dn_datetime.strftime('%Y-%m-%dT%I:%M:%S%z')\n",
      "    file_formatted_datetime = dn_datetime.strftime('%Y-%m-%d')\n",
      "    dn_url = url % (dn_formatted_datetime)\n",
      "    \n",
      "    request = br.open(dn_url)\n",
      "    \n",
      "    with open('./data/'+file_formatted_datetime+'.json', 'w') as fout:\n",
      "        fout.write(request.read())\n",
      "        #fout.write('test')\n",
      "    "
     ],
     "language": "python",
     "metadata": {},
     "outputs": [],
     "prompt_number": 5
    },
    {
     "cell_type": "code",
     "collapsed": false,
     "input": [],
     "language": "python",
     "metadata": {},
     "outputs": []
    }
   ],
   "metadata": {}
  }
 ]
}