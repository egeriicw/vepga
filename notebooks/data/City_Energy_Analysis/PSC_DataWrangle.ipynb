{
 "cells": [
  {
   "cell_type": "code",
   "execution_count": 2,
   "metadata": {
    "collapsed": false
   },
   "outputs": [],
   "source": [
    "import pandas as pd\n",
    "import datetime as dt\n",
    "from pytz import timezone\n",
    "from pytz import UTC"
   ]
  },
  {
   "cell_type": "code",
   "execution_count": 3,
   "metadata": {
    "collapsed": false
   },
   "outputs": [],
   "source": [
    "file_dir = './data/'\n",
    "file_in = 'public_safety_center_MASTER.csv'\n",
    "file_out = 'public_safety_center_MASTER_wrangled.csv'"
   ]
  },
  {
   "cell_type": "code",
   "execution_count": 4,
   "metadata": {
    "collapsed": false
   },
   "outputs": [],
   "source": [
    "header = ['AccountNo', 'MeterNo','Date', '10','11','12','13','14','15','16','17','18','19','20','21','22','23','24','25','26','27','28','29','30','31','32','33','34','35','36','37','38','39','40','41','42','43','44','45','46','47','48','49','50','51','52','53','54','55','56','57','58','59']\n",
    "\n",
    "df = pd.read_csv(file_dir + file_in, header=None, skip_blank_lines=True)\n",
    "df.columns = header"
   ]
  },
  {
   "cell_type": "code",
   "execution_count": 5,
   "metadata": {
    "collapsed": false
   },
   "outputs": [
    {
     "name": "stdout",
     "output_type": "stream",
     "text": [
      "DatetimeIndex(['2009-01-08 00:30:00-05:00', '2009-01-08 01:00:00-05:00',\n",
      "               '2009-01-08 01:30:00-05:00', '2009-01-08 02:00:00-05:00',\n",
      "               '2009-01-08 02:30:00-05:00', '2009-01-08 03:00:00-05:00',\n",
      "               '2009-01-08 03:30:00-05:00', '2009-01-08 04:00:00-05:00',\n",
      "               '2009-01-08 04:30:00-05:00', '2009-01-08 05:00:00-05:00', \n",
      "               ...\n",
      "               '2015-07-06 19:00:00-04:00', '2015-07-06 19:30:00-04:00',\n",
      "               '2015-07-06 20:00:00-04:00', '2015-07-06 20:30:00-04:00',\n",
      "               '2015-07-06 21:00:00-04:00', '2015-07-06 21:30:00-04:00',\n",
      "               '2015-07-06 22:00:00-04:00', '2015-07-06 22:30:00-04:00',\n",
      "               '2015-07-06 23:00:00-04:00', '2015-07-06 23:30:00-04:00'],\n",
      "              dtype='datetime64[ns]', length=113805, freq='30T', tz='US/Eastern')\n"
     ]
    }
   ],
   "source": [
    "start_date = df['Date'][0]\n",
    "start_time = '00:30'\n",
    "\n",
    "end_date = df['Date'][len(df['Date'])-1]\n",
    "end_time = '23:30'\n",
    "\n",
    "#date_range = pd.date_range(start=start_date+' '+start_time, end='7/7/2015' + ' ' + '00:30', freq='30min', tz='US/Eastern')\n",
    "\n",
    "date_range = pd.date_range(start=start_date+' '+start_time, end=end_date + ' ' + end_time, freq='30min', tz='US/Eastern')\n",
    "\n",
    "print date_range"
   ]
  },
  {
   "cell_type": "code",
   "execution_count": 6,
   "metadata": {
    "collapsed": false
   },
   "outputs": [],
   "source": [
    "# Handling Daylight Savings Time\n",
    "\n",
    "dst_start = ['3/8/2009', '3/14/2010', '3/13/2011', '3/11/2012', '3/10/2013', '3/9/2014', '3/8/2015']\n",
    "df_dst_start = df[df['Date'].isin(dst_start)]\n",
    "df_dst_start = df_dst_start.drop(['14', '15', '58', '59'], axis=1)\n",
    "\n",
    "dst_end = ['11/1/2009', '11/7/2010', '11/6/2011', '11/4/2012', '11/3/2013', '11/2/2014', '11/1/2015']\n",
    "df_dst_end = df[df['Date'].isin(dst_end)]\n",
    "df_dst_end.columns = ['AccountNo', 'MeterNo','Date', '10','11','12','13','14','15','16','17','18','19','20','21','22','23','24','25','26','27','28','29','30','31','32','33','34','35','36','37','38','39','40','41','42','43','44','45','46','47','48','49','50','51','52','53','54','55','56','57','58','59']"
   ]
  },
  {
   "cell_type": "code",
   "execution_count": 7,
   "metadata": {
    "collapsed": true
   },
   "outputs": [],
   "source": [
    "df_dst_start_melt = pd.melt(df_dst_start, id_vars=['Date'], value_vars=['10','11','12','13','16','17','18','19','20','21','22','23','24','25','26','27','28','29','30','31','32','33','34','35','36','37','38','39','40','41','42','43','44','45','46','47','48','49','50','51','52','53','54','55','56','57'], var_name='Time', value_name='Use_kWh')\n",
    "df_dst_end_melt = pd.melt(df_dst_end, id_vars=['Date'], value_vars=['10','11','12','13','14','15','16','17','18','19','20','21','22','23','24','25','26','27','28','29','30','31','32','33','34','35','36','37','38','39','40','41','42','43','44','45','46','47','48','49','50','51','52','53','54','55','56','57','58','59'], var_name='Time', value_name='Use_kWh')"
   ]
  },
  {
   "cell_type": "code",
   "execution_count": 8,
   "metadata": {
    "collapsed": false
   },
   "outputs": [
    {
     "name": "stderr",
     "output_type": "stream",
     "text": [
      "/home/egeriicw/.venvs/nbserver/local/lib/python2.7/site-packages/pandas/core/indexing.py:115: SettingWithCopyWarning: \n",
      "A value is trying to be set on a copy of a slice from a DataFrame\n",
      "\n",
      "See the the caveats in the documentation: http://pandas.pydata.org/pandas-docs/stable/indexing.html#indexing-view-versus-copy\n",
      "  self._setitem_with_indexer(indexer, value)\n"
     ]
    }
   ],
   "source": [
    "df_dst_start_melt['Date'] = pd.DatetimeIndex(df_dst_start_melt['Date']).to_pydatetime()\n",
    "\n",
    "for index, row in df_dst_start_melt[df_dst_start_melt['Time'] == '57'].iterrows():\n",
    "    df_dst_start_melt['Date'].loc[index] = row['Date'] + pd.to_timedelta('1', unit='D')\n",
    "    df_dst_start_melt['Time'].loc[index] = '0'\n",
    "    \n",
    "df_dst_end_melt['Date'] = pd.DatetimeIndex(df_dst_end_melt['Date']).to_pydatetime()\n",
    "\n",
    "for index, row in df_dst_end_melt[df_dst_end_melt['Time'] == '59'].iterrows():\n",
    "    df_dst_end_melt['Date'].loc[index] = row['Date'] + pd.to_timedelta('1', unit='D')\n",
    "    df_dst_end_melt['Time'].loc[index] = '0'"
   ]
  },
  {
   "cell_type": "code",
   "execution_count": 9,
   "metadata": {
    "collapsed": false
   },
   "outputs": [],
   "source": [
    "# Remove dst rows from main dataset\n",
    "df = df[~df['Date'].isin(dst_start)]\n",
    "df = df[~df['Date'].isin(dst_end)]\n",
    "\n",
    "# Drop the dst columns from the end\n",
    "df = df.drop(['58', '59'], axis=1)"
   ]
  },
  {
   "cell_type": "code",
   "execution_count": 10,
   "metadata": {
    "collapsed": false
   },
   "outputs": [],
   "source": [
    "# Melt main dataset\n",
    "df_melt = pd.melt(df, id_vars=['Date'], value_vars=['10','11','12','13','14','15','16','17','18','19','20','21','22','23','24','25','26','27','28','29','30','31','32','33','34','35','36','37','38','39','40','41','42','43','44','45','46','47','48','49','50','51','52','53','54','55','56','57'], var_name='Time', value_name='Use_kWh')"
   ]
  },
  {
   "cell_type": "code",
   "execution_count": 11,
   "metadata": {
    "collapsed": false
   },
   "outputs": [],
   "source": [
    "df_melt['Date'] = pd.DatetimeIndex(df_melt['Date']).to_pydatetime()\n",
    "\n",
    "for index, row in df_melt[df_melt['Time'] == '57'].iterrows():\n",
    "    df_melt['Date'].loc[index] = row['Date'] + pd.to_timedelta('1', unit='D')\n",
    "    df_melt['Time'].loc[index] = '0'"
   ]
  },
  {
   "cell_type": "code",
   "execution_count": 12,
   "metadata": {
    "collapsed": true
   },
   "outputs": [],
   "source": [
    "df_dst_melt = df_dst_start_melt.append(df_dst_end_melt)"
   ]
  },
  {
   "cell_type": "code",
   "execution_count": 13,
   "metadata": {
    "collapsed": true
   },
   "outputs": [],
   "source": [
    "df_melt_appended = df_melt.append(df_dst_melt)"
   ]
  },
  {
   "cell_type": "code",
   "execution_count": 14,
   "metadata": {
    "collapsed": false
   },
   "outputs": [],
   "source": [
    "df_melt_appended.sort(columns=['Date', 'Time'], inplace=True)"
   ]
  },
  {
   "cell_type": "code",
   "execution_count": 15,
   "metadata": {
    "collapsed": false
   },
   "outputs": [],
   "source": [
    "df_melt_appended = df_melt_appended[:-1].set_index(date_range)"
   ]
  },
  {
   "cell_type": "code",
   "execution_count": 16,
   "metadata": {
    "collapsed": false
   },
   "outputs": [],
   "source": [
    "df_melt_appended.reset_index(inplace=True)\n",
    "df_melt_appended.columns.values[0] = 'DateTime'"
   ]
  },
  {
   "cell_type": "code",
   "execution_count": 17,
   "metadata": {
    "collapsed": false
   },
   "outputs": [],
   "source": [
    "df_melt_appended.to_csv(file_dir + 'df_melt_appended.csv', header=True)"
   ]
  },
  {
   "cell_type": "code",
   "execution_count": 18,
   "metadata": {
    "collapsed": false
   },
   "outputs": [],
   "source": [
    "df_melt_appended['Use_kWh'] = df_melt_appended['Use_kWh'].apply(lambda x: float(x))\n",
    "df_melt_appended['P_kW'] = df_melt_appended['Use_kWh'].apply(lambda x: 2*float(x))"
   ]
  },
  {
   "cell_type": "code",
   "execution_count": 19,
   "metadata": {
    "collapsed": false
   },
   "outputs": [],
   "source": [
    "df_melt_appended['Date'] = df_melt_appended['DateTime'].apply(lambda x: x.date())\n",
    "df_melt_appended['Time'] = df_melt_appended['DateTime'].apply(lambda x: x.time())\n",
    "df_melt_appended['Month'] = df_melt_appended['DateTime'].apply(lambda x: x.month)\n",
    "df_melt_appended['Day'] = df_melt_appended['DateTime'].apply(lambda x: x.day)\n",
    "df_melt_appended['Year'] = df_melt_appended['DateTime'].apply(lambda x: x.year)\n",
    "df_melt_appended['Hour'] = df_melt_appended['DateTime'].apply(lambda x: x.hour)\n",
    "df_melt_appended['WeekDay'] = df_melt_appended['DateTime'].apply(lambda x: x.weekday())"
   ]
  },
  {
   "cell_type": "code",
   "execution_count": 20,
   "metadata": {
    "collapsed": false
   },
   "outputs": [],
   "source": [
    "# Insert fiscal year\n",
    "\n",
    "def fiscal_year(val):\n",
    "    if (val.month >= 7) and (val.month <=12):\n",
    "        return val.year + 1\n",
    "    else:\n",
    "        return val.year\n",
    "    \n",
    "df_melt_appended['FiscalYear'] = df_melt_appended['DateTime'].apply(lambda x: fiscal_year(x))"
   ]
  },
  {
   "cell_type": "code",
   "execution_count": 21,
   "metadata": {
    "collapsed": false,
    "scrolled": false
   },
   "outputs": [],
   "source": [
    "df_melt_appended = df_melt_appended.ix[:, ['Date','Month', 'Day', 'Year', 'FiscalYear', 'WeekDay', 'Time', 'Hour', 'DateTime', 'Use_kWh', 'P_kW']]"
   ]
  },
  {
   "cell_type": "code",
   "execution_count": 22,
   "metadata": {
    "collapsed": false
   },
   "outputs": [],
   "source": [
    "df_melt_appended.to_csv(file_dir + file_out, header=True, columns=['Date','Month', 'Day', 'Year','FiscalYear','WeekDay', 'Time','Hour','DateTime','Use_kWh', 'P_kW'], index=True, mode='w')"
   ]
  },
  {
   "cell_type": "code",
   "execution_count": null,
   "metadata": {
    "collapsed": true
   },
   "outputs": [],
   "source": []
  }
 ],
 "metadata": {
  "kernelspec": {
   "display_name": "Python 2",
   "language": "python",
   "name": "python2"
  },
  "language_info": {
   "codemirror_mode": {
    "name": "ipython",
    "version": 2
   },
   "file_extension": ".py",
   "mimetype": "text/x-python",
   "name": "python",
   "nbconvert_exporter": "python",
   "pygments_lexer": "ipython2",
   "version": "2.7.6"
  }
 },
 "nbformat": 4,
 "nbformat_minor": 0
}
